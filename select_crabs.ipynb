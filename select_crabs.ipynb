{
 "cells": [
  {
   "cell_type": "code",
   "execution_count": 2,
   "metadata": {
    "collapsed": true
   },
   "outputs": [],
   "source": [
    "import astropy.io.fits as fitsb\n",
    "from astropy.coordinates import SkyCoord"
   ]
  },
  {
   "cell_type": "code",
   "execution_count": 26,
   "metadata": {
    "collapsed": true
   },
   "outputs": [],
   "source": [
    "from numpy import *"
   ]
  },
  {
   "cell_type": "code",
   "execution_count": 7,
   "metadata": {
    "collapsed": true
   },
   "outputs": [],
   "source": [
    "import pandas as pd"
   ]
  },
  {
   "cell_type": "code",
   "execution_count": 11,
   "metadata": {
    "collapsed": false
   },
   "outputs": [],
   "source": [
    "d=fits.open(\"/mnt/sshfs/isdc/isdc/arc/rev_3/idx/scw/GNRL-SCWG-GRP-IDX.fits\")[1].data"
   ]
  },
  {
   "cell_type": "code",
   "execution_count": 12,
   "metadata": {
    "collapsed": false
   },
   "outputs": [],
   "source": [
    "scx=SkyCoord(d['RA_SCX'],d['DEC_SCX'],unit=\"deg\")"
   ]
  },
  {
   "cell_type": "code",
   "execution_count": 14,
   "metadata": {
    "collapsed": false
   },
   "outputs": [],
   "source": [
    "crab=SkyCoord(83,22,unit=\"deg\")"
   ]
  },
  {
   "cell_type": "code",
   "execution_count": 17,
   "metadata": {
    "collapsed": false
   },
   "outputs": [],
   "source": [
    "sep=scx.separation(crab).deg"
   ]
  },
  {
   "cell_type": "code",
   "execution_count": 60,
   "metadata": {
    "collapsed": true
   },
   "outputs": [],
   "source": [
    "m_crab=(sep<10) & (d['SW_TYPE']==\"POINTING\")"
   ]
  },
  {
   "cell_type": "code",
   "execution_count": 19,
   "metadata": {
    "collapsed": false
   },
   "outputs": [
    {
     "data": {
      "text/plain": [
       "11367"
      ]
     },
     "execution_count": 19,
     "metadata": {},
     "output_type": "execute_result"
    }
   ],
   "source": [
    "sum(m_crab)"
   ]
  },
  {
   "cell_type": "code",
   "execution_count": 76,
   "metadata": {
    "collapsed": false,
    "scrolled": true
   },
   "outputs": [
    {
     "name": "stdout",
     "output_type": "stream",
     "text": [
      "004200120010.001, 004300150010.001, 004700200010.001, 022900500010.001, 024200110010.001, 030000460010.001, 066500210010.001, 077400190010.001, 083900170010.001, 090300440010.001, 109600400010.001, 126900460010.001, 127800170010.001, 145200550010.001, 146800310010.001, 150800250010.001, 152800210010.001, 164400190010.001, 166200530010.001, 166400130010.001, 166700580010.001, 171500280010.001, 172400520010.001, 173600190010.001, 192800550010.001,\n"
     ]
    }
   ],
   "source": [
    "for r in unique(d[m_crab]['REVOL']):\n",
    "    #print r\n",
    "    if random.randint(5)!=1: continue\n",
    "        \n",
    "    scws=d[m_crab]['SWID'][d[m_crab]['REVOL']==r]\n",
    "    \n",
    "    scws=[s for s in scws if s[-4:]==\"0010\" and int(s[4:8])>10  and int(s[4:8])<60]\n",
    "    \n",
    "#    print scws\n",
    "    \n",
    "    if len(scws)==0: continue\n",
    "    \n",
    "    i=random.randint(len(scws))\n",
    "    print scws[i]+\".001,\","
   ]
  }
 ],
 "metadata": {
  "kernelspec": {
   "display_name": "Python 2",
   "language": "python",
   "name": "python2"
  },
  "language_info": {
   "codemirror_mode": {
    "name": "ipython",
    "version": 2
   },
   "file_extension": ".py",
   "mimetype": "text/x-python",
   "name": "python",
   "nbconvert_exporter": "python",
   "pygments_lexer": "ipython2",
   "version": "2.7.12"
  }
 },
 "nbformat": 4,
 "nbformat_minor": 2
}
